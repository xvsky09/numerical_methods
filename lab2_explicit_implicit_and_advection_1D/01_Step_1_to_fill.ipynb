{
 "cells": [
  {
   "cell_type": "raw",
   "metadata": {},
   "source": [
    "Text provided under a Creative Commons Attribution license, CC-BY.  All code is made available under the FSF-approved BSD-3 license.  (c) Lorena A. Barba, Gilbert F. Forsyth 2017. Thanks to NSF for support via CAREER award #1149784."
   ]
  },
  {
   "cell_type": "markdown",
   "metadata": {},
   "source": [
    "[@LorenaABarba](https://twitter.com/LorenaABarba)\n",
    "\n",
    "[@ggruszczynski](https://github.com/ggruszczynski)"
   ]
  },
  {
   "cell_type": "markdown",
   "metadata": {},
   "source": [
    "12 steps to Navier–Stokes\n",
    "======\n",
    "***"
   ]
  },
  {
   "cell_type": "markdown",
   "metadata": {},
   "source": [
    "Hello! Welcome to the **12 steps to Navier–Stokes**. This is a practical module that is used in the beginning of an interactive Computational Fluid Dynamics (CFD) course taught by [Prof. Lorena Barba](http://lorenabarba.com) since Spring 2009 at Boston University. The course assumes only basic programming knowledge (in any language) and of course some foundation in partial differential equations and fluid mechanics. The practical module was inspired by the ideas of Dr. Rio Yokota, who was a post-doc in Barba's lab, and has been refined by Prof. Barba and her students over several semesters teaching the course. The course is taught entirely using Python and students who don't know Python just learn as we work through the module.\n",
    "\n",
    "This [Jupyter notebook](https://jupyter-notebook.readthedocs.io/en/stable/) will lead you through the first step of programming your own Navier–Stokes solver in Python from the ground up.  We're going to dive right in.  Don't worry if you don't understand everything that's happening at first, we'll cover it in detail as we move forward and you can support your learning with the videos of [Prof. Barba's lectures on YouTube](http://www.youtube.com/playlist?list=PL30F4C5ABCE62CB61).\n",
    "\n",
    "For best results, after you follow this notebook, prepare your own code for Step 1, either as a Python script or in a clean Jupyter notebook.\n",
    "\n",
    "To execute this Notebook, we assume you have invoked the notebook server using: `jupyter notebook`."
   ]
  },
  {
   "cell_type": "markdown",
   "metadata": {},
   "source": [
    "Step 1: 1-D Linear Convection\n",
    "-----\n",
    "***"
   ]
  },
  {
   "cell_type": "markdown",
   "metadata": {},
   "source": [
    "The 1-D Linear Convection equation is the simplest, most basic model that can be used to learn something about CFD. It is surprising that this little equation can teach us so much! Here it is:\n",
    "\n",
    "$$\\frac{\\partial u}{\\partial t} + c \\frac{\\partial u}{\\partial x} = 0$$\n",
    "\n",
    "With given initial conditions (understood as a *wave*), the equation represents the propagation of that initial *wave* with speed $c$, without change of shape. Let the initial condition be $u(x,0)=u_0(x)$. Then the exact solution of the equation is $u(x,t)=u_0(x-ct)$.\n",
    "\n",
    "We discretize this equation in both space and time, using the Forward Difference scheme for the time derivative and the Backward Difference scheme for the space derivative. Consider discretizing the spatial coordinate $x$ into points that we index from $i=0$ to $N$, and stepping in discrete time intervals of size $\\Delta t$.\n",
    "\n",
    "From the definition of a derivative (and simply removing the limit), we know that:\n",
    "\n",
    "$$\\frac{\\partial u}{\\partial x}\\approx \\frac{u(x+\\Delta x)-u(x)}{\\Delta x}$$\n",
    "\n",
    "\n",
    "## Explicit, one-sided (backward) FD \n",
    "\n",
    "Our discrete equation, then, is:\n",
    "\n",
    "$$\\frac{u_i^{n+1}-u_i^n}{\\Delta t} + c \\frac{u_i^n - u_{i-1}^n}{\\Delta x} = 0 $$\n",
    "\n",
    "Where $n$ and $n+1$ are two consecutive steps in time, while $i-1$ and $i$ are two neighboring points of the discretized $x$ coordinate. If there are given initial conditions, then the only unknown in this discretization is $u_i^{n+1}$.  We can solve for our unknown to get an equation that allows us to advance in time, as follows:\n",
    "\n",
    "$$u_i^{n+1} = u_i^n - c \\frac{\\Delta t}{\\Delta x}(u_i^n-u_{i-1}^n)$$\n",
    "\n",
    "Now let's try implementing this in Python.  \n",
    "\n",
    "We'll start by importing a few libraries to help us out.\n",
    "\n",
    "* `numpy` is a library that provides a bunch of useful matrix operations akin to MATLAB\n",
    "* `matplotlib` is a 2D plotting library that we will use to plot our results\n",
    "* `time` and `sys` provide basic timing functions that we'll use to slow down animations for viewing"
   ]
  },
  {
   "cell_type": "code",
   "execution_count": null,
   "metadata": {
    "collapsed": false,
    "jupyter": {
     "outputs_hidden": false
    }
   },
   "outputs": [],
   "source": [
    "# Remember: comments in python are denoted by the pound sign\n",
    "import numpy                       #here we load numpy\n",
    "from matplotlib import pyplot      #here we load matplotlib\n",
    "import time, sys                   #and load some utilities\n"
   ]
  },
  {
   "cell_type": "code",
   "execution_count": null,
   "metadata": {
    "collapsed": false,
    "jupyter": {
     "outputs_hidden": false
    }
   },
   "outputs": [],
   "source": [
    "#this makes matplotlib plots appear in the notebook (instead of a separate window)\n",
    "%matplotlib inline                  "
   ]
  },
  {
   "cell_type": "markdown",
   "metadata": {},
   "source": [
    "Now let's define a few variables; we want to define an evenly spaced grid of points within a spatial domain that is 2 units of length wide, i.e., $x_i\\in(0,2)$.  We'll define a variable `nx`, which will be the number of grid points we want and `dx` will be the distance between any pair of adjacent grid points.  "
   ]
  },
  {
   "cell_type": "code",
   "execution_count": null,
   "metadata": {
    "collapsed": false,
    "jupyter": {
     "outputs_hidden": false
    }
   },
   "outputs": [],
   "source": [
    "# Explicit one sided FD - observe numerical diffusion\n",
    "nx = 41    # try changing this number from 41 to 81 and Run All ... what happens?\n",
    "nt = 15    #nt is the number of timesteps we want to calculate\n",
    "dt = .025  #dt is the amount of time each timestep covers (delta t)\n",
    "c = 1      #assume wavespeed of c = 1\n",
    "\n",
    "# try the following settings (for central FD)\n",
    "nx *= 10\n",
    "nt *= 500\n",
    "dt *= 0.001\n",
    "\n",
    "domain_length = 2\n",
    "dx = domain_length / (nx-1)"
   ]
  },
  {
   "cell_type": "markdown",
   "metadata": {},
   "source": [
    "We also need to set up our initial conditions. The initial velocity $u_0$ is given as \n",
    "$u = 2$ in the interval $0.5 \\leq x \\leq 1$  and $u = 1$ everywhere else in $(0,2)$ (i.e., a hat function).\n",
    "\n",
    "Here, we use the function `ones()` defining a `numpy` array which is `nx` elements long with every value equal to 1."
   ]
  },
  {
   "cell_type": "code",
   "execution_count": null,
   "metadata": {
    "collapsed": false,
    "jupyter": {
     "outputs_hidden": false
    }
   },
   "outputs": [],
   "source": [
    "\n",
    "xspace = numpy.linspace(0, domain_length, nx)\n",
    "u_IC = numpy.ones(nx)      #numpy function ones()\n",
    "u_IC[int(.5 / dx):int(1 / dx + 1)] = 2  #setting u = 2 between 0.5 and 1 as per our I.C.s\n",
    "# int((nx-1)/4)\n",
    "# int(nx/2 + 1)\n",
    "\n",
    "# different IC\n",
    "# xspace=numpy.linspace(0, domain_length, num=nx, endpoint=True)\n",
    "# u_IC = numpy.tanh(xspace) \n",
    "\n",
    "# x_mean = 0.5\n",
    "# L2 = (xspace-x_mean)**2\n",
    "# C0 = 1 # initial concentration\n",
    "# Sigma2 = 0.05 # initial variance\n",
    "# u_IC = C0*numpy.exp(-L2/(2*Sigma2))\n",
    "\n",
    "# u_IC = numpy.sin(xspace*(2*numpy.pi/max(xspace)))\n",
    "pyplot.plot(xspace, u_IC)\n",
    "# print(u_IC)"
   ]
  },
  {
   "cell_type": "markdown",
   "metadata": {},
   "source": [
    "Now let's take a look at those initial conditions using a Matplotlib plot.  We've imported the `matplotlib` plotting library `pyplot` and the plotting function is called `plot`, so we'll call `pyplot.plot`. To learn about the myriad possibilities of Matplotlib, explore the [Gallery](http://matplotlib.org/gallery.html) of example plots.\n",
    "\n",
    "Here, we use the syntax for a simple 2D plot: `plot(x,y)`, where the `x` values are evenly distributed grid points:"
   ]
  },
  {
   "cell_type": "code",
   "execution_count": null,
   "metadata": {
    "collapsed": false,
    "jupyter": {
     "outputs_hidden": false
    }
   },
   "outputs": [],
   "source": [
    "pyplot.plot(xspace, u_IC)"
   ]
  },
  {
   "cell_type": "markdown",
   "metadata": {},
   "source": [
    "Why doesn't the hat function have perfectly straight sides? Think for a bit."
   ]
  },
  {
   "cell_type": "markdown",
   "metadata": {},
   "source": [
    "Now it's time to implement the discretization of the convection equation using a finite-difference scheme.  \n",
    "\n",
    "For every element of our array `u`, we need to perform the operation $u_i^{n+1} = u_i^n - c \\frac{\\Delta t}{\\Delta x}(u_i^n-u_{i-1}^n)$\n",
    "\n",
    "We'll store the result in a new (temporary) array `un`, which will be the solution $u$ for the next time-step.  We will repeat this operation for as many time-steps as we specify and then we can see how far the wave has convected.  \n",
    "\n",
    "We first initialize our placeholder array `un` to hold the values we calculate for the $n+1$ timestep, using once again the NumPy function `ones()`.\n",
    "\n",
    "Then, we may think we have two iterative operations: one in space and one in time (we'll learn differently later), so we'll start by nesting one loop inside the other. Note the use of the nifty `range()` function. When we write: `for i in range(1,nx)` we will iterate through the `u` array, but we'll be skipping the first element (the zero-th element).  *Why?*"
   ]
  },
  {
   "cell_type": "code",
   "execution_count": null,
   "metadata": {
    "collapsed": false,
    "jupyter": {
     "outputs_hidden": false
    }
   },
   "outputs": [],
   "source": [
    "# backward FD\n",
    "\n",
    "un_bfd = u_IC.copy()\n",
    "u = u_IC.copy()\n",
    "\n",
    "for n in range(nt):  #loop for values of n from 0 to nt, so it will run nt times\n",
    "    un_bfd = u.copy() ##copy the existing values of u into un\n",
    "    # for i in range(1, nx): ## you can try commenting this line and...\n",
    "    for i in range(nx): ## ... uncommenting this line and see what happens!\n",
    "        u[i] = un_bfd[i] - c * dt / dx * (un_bfd[i] - un_bfd[i-1]) # backward FD\n",
    "\n",
    "pyplot.plot(xspace, u)"
   ]
  },
  {
   "cell_type": "markdown",
   "metadata": {},
   "source": [
    "**Note**—We will learn later that the code as written above is quite inefficient, and there are better ways to write this, Python-style. But let's carry on.\n",
    "\n",
    "Now let's try plotting our `u` array after advancing in time."
   ]
  },
  {
   "cell_type": "markdown",
   "metadata": {},
   "source": [
    "OK! So our hat function has definitely moved to the right, but it's no longer a hat.  **What's going on?**"
   ]
  },
  {
   "cell_type": "markdown",
   "metadata": {},
   "source": [
    "## Explicit, central FD - part I\n",
    "\n",
    "Let us try a more accurate discretization stencil, namely central finite difference:\n",
    "\n",
    "$$\\frac{\\partial u}{\\partial x}\\approx \\frac{u(x+\\Delta x)-u(x-\\Delta x)}{2\\Delta x}$$\n",
    "\n",
    "Now, the discrete scheme can be expressed as:\n",
    "\n",
    "$$\\frac{u_i^{n+1}-u_i^n}{\\Delta t} + c \\frac{u_{i+1}^n - u_{i-1}^n}{2\\Delta x} = 0 $$\n",
    "\n",
    "$$u_i^{n+1} = u_i^n - c \\frac{\\Delta t}{2 \\Delta x}(u_{i+1}^n-u_{i-1}^n) =  \\beta u_{i-1}^n + u_i^n  - \\beta u_{i+1}^n$$\n",
    "\n",
    "where\n",
    "\n",
    "$$ \\beta = c \\frac{\\Delta t}{2 \\Delta x} $$"
   ]
  },
  {
   "cell_type": "code",
   "execution_count": null,
   "metadata": {},
   "outputs": [],
   "source": [
    "# explicit central FD\n",
    "un_ecfd = numpy.ones(nx) #initialize a temporary array - central finite difference\n",
    "un_ecfd = u_IC.copy()\n",
    "u = u_IC.copy()  \n",
    "\n",
    "for n in range(nt):  #loop for values of n from 0 to nt, so it will run nt times\n",
    "    un_ecfd = u.copy() ##copy the existing values of u into un\n",
    "    for i in range(1, nx-1): ## you can try commenting this line and...\n",
    "    # for i in range(nx): ## ... uncommenting this line and see what happens!\n",
    "    # remember to use un_ecfd instead of un_bfd \n",
    "        # u[i] = ...  # central FD \n",
    "\n",
    "pyplot.plot(xspace, u);"
   ]
  },
  {
   "cell_type": "markdown",
   "metadata": {},
   "source": [
    "## Explicit, central FD - part II\n",
    "\n",
    "Notice, that the scheme can be formulated as:\n",
    "\n",
    "$$\n",
    "\\boldsymbol{u}^{n+1} = \\mathbb{A} \\boldsymbol{u}^n \n",
    "$$\n",
    "\n",
    "\n",
    "Observe, that $ \\mathbb{A} $ have a tridiagonal structure:\n",
    "\n",
    "$$\n",
    "\\begin{bmatrix} \n",
    "A_{0,0} & A_{0,1} &  & \\\\\n",
    "\\beta  & 1 & -\\beta \\\\\n",
    "0 & \\beta  & 1 & -\\beta \\\\\n",
    "0 & 0 & \\beta & 1 & -\\beta \\\\\n",
    "... \\\\\n",
    "... \\\\\n",
    "0 & 0 & 0 & 0 & 0 & \\beta & 1 & -\\beta \\\\\n",
    "0 & 0 & 0 & 0 & 0 & 0 & A_{n,n-1}  & A_{n,n}\\\\\n",
    "\\end{bmatrix}\n",
    "\\quad\n",
    "$$\n",
    "\n",
    "**Hint:**\n",
    "\n",
    "For simplification, fill the corners of the matrix using:\n",
    "* forward FD for $A_{0,0}$ and $A_{0,1}$\n",
    "\n",
    "$$\\frac{u_i^{n+1}-u_i^n}{\\Delta t} + c \\frac{u_{i+}^n - u_{i}^n}{\\Delta x} = 0 $$\n",
    "\n",
    "$$u_i^{n+1} = u_i^n - c \\frac{\\Delta t}{\\Delta x}(u_{i+1}^n-u_{i}^n) = u_i^n (1+\\lambda) - \\lambda u_{i+1}^n$$\n",
    "\n",
    "\n",
    "* backward FD for $A_{n,n}$ and $A_{n,n-1}$\n",
    "$$\\frac{u_i^{n+1}-u_i^n}{\\Delta t} + c \\frac{u_i^n - u_{i-1}^n}{\\Delta x} = 0 $$\n",
    "\n",
    "$$u_i^{n+1} = u_i^n - c \\frac{\\Delta t}{\\Delta x}(u_i^n-u_{i-1}^n) = u_i^n (1-\\lambda) + \\lambda u_{i-1}^n$$\n",
    "\n",
    "where $\\lambda = c \\frac{\\Delta t}{\\Delta x}$\n"
   ]
  },
  {
   "cell_type": "code",
   "execution_count": null,
   "metadata": {},
   "outputs": [],
   "source": [
    "# explicit central FD - matrix approach\n",
    "un_ecfd = numpy.ones(nx) #initialize a temporary array - central finite difference\n",
    "un_ecfd = u_IC.copy()\n",
    "u = u_IC.copy()  \n",
    "\n",
    "\n",
    "A = numpy.zeros((nx, nx))      \n",
    "# Beta_central_FD = ...\n",
    "# Beta_one_side_FD = ...\n",
    "\n",
    "last_index_in_matrix = nx -1 \n",
    "# the BC  - use one sided FD            \n",
    "# A[0, 0] = ...   # forward FD\n",
    "# A[0, 1] = ...   # forward FD \n",
    "# A[last_index_in_matrix, last_index_in_matrix-1] = ...   # backward FD \n",
    "# A[last_index_in_matrix, last_index_in_matrix] = ...     # backward FD \n",
    "for i in range(1, last_index_in_matrix): \n",
    "    # A[i, i-1] = ...         # left of the diagonal\n",
    "    # A[i, i] = ...           # the diagonal\n",
    "    # A[i, i+1] = ...         # right of the diagonal   \n",
    "\n",
    "print(f\"determinant A: {numpy.linalg.det(A)}\") # determinant =< 1 for stability\n",
    "\n",
    "for n in range(nt):  #loop for values of n from 0 to nt, so it will run nt times\n",
    "    un_ecfd = A@un_ecfd\n",
    "\n",
    "pyplot.plot(xspace, un_ecfd);\n"
   ]
  },
  {
   "cell_type": "markdown",
   "metadata": {},
   "source": [
    "Although the central FD shall be more accurate (formally $2nd$ order), the scheme turns out to be divergent in longer runs. \n",
    "What information provides the determinant of $\\mathbb{A}$?\n",
    "\n"
   ]
  },
  {
   "cell_type": "markdown",
   "metadata": {},
   "source": [
    "## implicit, central FD\n",
    "\n",
    "In the next attempt, let us try an implicit, central FD.\n",
    "\n",
    "The values from the future are used to construct the stencil for the spatial derivative, which lead to implicitness.\n",
    "\n",
    "The scheme reads:\n",
    "\n",
    "$$\\frac{u_i^{n+1}-u_i^n}{\\Delta t} + c \\frac{u_{i+1}^{n+1} - u_{i-1}^{n+1}}{2\\Delta x} = 0 $$\n",
    "\n",
    "$$u_i^{n+1} + c \\frac{\\Delta t}{2 \\Delta x}(u_{i+1}^{n+1}-u_{i-1}^{n+1}) = u_i^n$$\n",
    "\n",
    "$$ - \\beta u_{i-1}^{n+1} + u_i^{n+1} + \\beta u_{i+1}^{n+1} = u_i^n$$\n",
    "\n",
    "A system of equations has to be solved to find the subsequent time step.\n",
    "\n",
    "$$\n",
    "\\mathbb{A} \\boldsymbol{u}^{n+1} = \\boldsymbol{u}^n \n",
    "$$\n",
    "\n",
    "\n",
    "Again, the $ \\mathbb{A} $ matrix have a tridiagonal structure (a bit different than in the explicit case):\n",
    "\n",
    "$$\n",
    "\\begin{bmatrix} \n",
    "A_{0,0} & A_{0,1} &  & \\\\\n",
    "-\\beta  & 1 & \\beta \\\\\n",
    "0 & -\\beta  & 1 & \\beta \\\\\n",
    "0 & 0 & -\\beta & 1 & \\beta \\\\\n",
    "... \\\\\n",
    "... \\\\\n",
    "0 & 0 & 0 & 0 & 0 & -\\beta & 1 & \\beta \\\\\n",
    "0 & 0 & 0 & 0 & 0 & 0 & A_{n,n-1}  & A_{n,n}\\\\\n",
    "\\end{bmatrix}\n",
    "\\quad\n",
    "$$\n",
    "\n",
    "\n",
    "**Hint:**\n",
    "\n",
    "For simplification, fill the corners of the matrix using:\n",
    "* forward implicit FD for $A_{0,0}$ and $A_{0,1}$\n",
    "\n",
    "$$\\frac{u_i^{n+1}-u_i^n}{\\Delta t} + c \\frac{u_{i+1}^{n+1} - u_{i}^{n+1}}{\\Delta x} = 0 $$\n",
    "\n",
    "$$ u_i^{n+1} + c \\frac{\\Delta t}{\\Delta x}(u_{i+1}^{n+1}-u_{i}^{n+1}) =  u_i^n $$\n",
    "\n",
    "$$ u_i^{n+1} (1-\\lambda) + \\lambda u_{i+1}^{n+1} $$\n",
    "\n",
    "* backward implicit FD for $A_{n,n}$ and $A_{n,n-1}$\n",
    "$$\\frac{u_i^{n+1}-u_i^n}{\\Delta t} + c \\frac{u_i^{n+1} - u_{i-1}^{n+1}}{\\Delta x} = 0 $$\n",
    "\n",
    "$$ u_i^{n+1} + c \\frac{\\Delta t}{\\Delta x}(u_i^{n+1}-u_{i-1}^{n+1}) = u_i^n $$\n",
    "\n",
    "$$ u_i^{n+1} (1+\\lambda) - \\lambda u_{i-1}^{n+1} = u_i^n $$\n",
    "\n",
    "where $\\lambda = c \\frac{\\Delta t}{\\Delta x}$\n"
   ]
  },
  {
   "cell_type": "code",
   "execution_count": null,
   "metadata": {},
   "outputs": [],
   "source": [
    "# implicit central FD\n",
    "import numpy as np\n",
    "np.set_printoptions(precision=3, suppress=True)\n",
    "un_icfd = numpy.ones(nx) #initialize a temporary array - central finite difference\n",
    "un_icfd = u_IC.copy()\n",
    "u = u_IC.copy()  \n",
    "\n",
    "A = numpy.zeros((nx, nx))\n",
    "                \n",
    "# Beta_central_FD = ...\n",
    "# Beta_one_side_FD = ...\n",
    "\n",
    "last_index_in_matrix = nx -1 \n",
    "# the BC  - use one sided FD            \n",
    "# A[0, 0] = ...    # forward FD\n",
    "# A[0, 1] = ...    # forward FD \n",
    "# A[last_index_in_matrix, last_index_in_matrix-1] = ...   # backward FD \n",
    "# A[last_index_in_matrix, last_index_in_matrix] =  ...    # backward FD \n",
    "for i in range(1, last_index_in_matrix): \n",
    "    # A[i, i-1] = ...    # left of the diagonal\n",
    "    # A[i, i] = ...      # the diagonal\n",
    "    # A[i, i+1] = ...    # right of the diagonal   \n",
    "\n",
    "    \n",
    "\n",
    "A_inv = ... # use numpy to invert the matrix\n",
    "\n",
    "print(f\"determinant A_inv: {numpy.linalg.det(A_inv)}\") # determinant =< 1 for stability\n",
    "\n",
    "for n in range(nt):  #loop for values of n from 0 to nt, so it will run nt times\n",
    "    un_icfd = A_inv@un_icfd\n",
    "    # alternative way of doing the same:\n",
    "    #     un_icfd = np.dot(A_inv,un_icfd)\n",
    "    #     b = un_icfd.copy() \n",
    "    #     un_icfd = np.linalg.solve(A, b) # u(t+1)\n",
    "                \n",
    "pyplot.plot(xspace, un_icfd)"
   ]
  },
  {
   "cell_type": "markdown",
   "metadata": {},
   "source": [
    "## Questions\n",
    "\n",
    "* discuss the differences between first order (one sided, forward/backward FD) and second order stencils (central FD). \n",
    "    * How do they influence numerical diffusion and dispersion?\n",
    "    * How do they influence stability of the scheme?\n",
    "    * The one-sided FD is also refereed as an upwind method. Can the forward/backward FD be used interchangably?  \n",
    "    * Is it possible to fill the corners of the $\\mathbb{A}$ matrix using second order stencil?\n",
    "\n",
    "* Would the hat function get diffused/disturbed if advected by exactly one cell per time step?\n",
    "\n",
    "* Why artefacts in second order (or higher) schemes exhibits as wiggles instead of just smaller diffusion?\n",
    "\n",
    "* Is there (in general) a tradeoff between accuracy and stability of the scheme?\n",
    "\n",
    "* Is the $\\mathbb{A}$ matrix always a constant one? \n",
    "\n",
    "* (Extra): Can one take the best of both worlds, i.e. mix first and second order schemes to limit the unphysical wiggles (oscilations)?\n"
   ]
  },
  {
   "cell_type": "markdown",
   "metadata": {},
   "source": [
    "Learn More\n",
    "-----\n",
    "***"
   ]
  },
  {
   "cell_type": "markdown",
   "metadata": {},
   "source": [
    "For a more thorough explanation of the finite-difference method, including topics like the truncation error, order of convergence and other details, watch **Video Lessons 2 and 3** by Prof. Barba on YouTube."
   ]
  },
  {
   "cell_type": "code",
   "execution_count": null,
   "metadata": {
    "collapsed": false,
    "jupyter": {
     "outputs_hidden": false
    }
   },
   "outputs": [],
   "source": [
    "from IPython.display import YouTubeVideo\n",
    "YouTubeVideo('iz22_37mMkk')"
   ]
  },
  {
   "cell_type": "code",
   "execution_count": null,
   "metadata": {
    "collapsed": false,
    "jupyter": {
     "outputs_hidden": false
    }
   },
   "outputs": [],
   "source": [
    "YouTubeVideo('xq9YTcv-fQg')"
   ]
  },
  {
   "cell_type": "markdown",
   "metadata": {},
   "source": [
    "For a careful walk-through of the discretization of the linear convection equation with finite differences (and also the following steps, up to Step 4), watch **Video Lesson 4** by Prof. Barba on YouTube."
   ]
  },
  {
   "cell_type": "code",
   "execution_count": null,
   "metadata": {
    "collapsed": false,
    "jupyter": {
     "outputs_hidden": false
    }
   },
   "outputs": [],
   "source": [
    "YouTubeVideo('y2WaK7_iMRI')"
   ]
  },
  {
   "cell_type": "markdown",
   "metadata": {},
   "source": [
    "## Last but not least"
   ]
  },
  {
   "cell_type": "markdown",
   "metadata": {},
   "source": [
    "**Remember** to rewrite Step 1 as a fresh Python script or in *your own* Jupyter notebook and then experiment by changing the discretization parameters. Once you have done this, you will be ready for [Step 2](./02_Step_2.ipynb).\n",
    "\n",
    "\n",
    "***"
   ]
  },
  {
   "cell_type": "code",
   "execution_count": null,
   "metadata": {
    "collapsed": false,
    "jupyter": {
     "outputs_hidden": false
    }
   },
   "outputs": [],
   "source": [
    "from IPython.core.display import HTML\n",
    "def css_styling():\n",
    "    styles = open(\"../styles/custom.css\", \"r\").read()\n",
    "    return HTML(styles)\n",
    "css_styling()"
   ]
  },
  {
   "cell_type": "markdown",
   "metadata": {},
   "source": [
    "> (The cell above executes the style for this notebook. We modified a style we found on the GitHub of [CamDavidsonPilon](https://github.com/CamDavidsonPilon), [@Cmrn_DP](https://twitter.com/cmrn_dp).)"
   ]
  }
 ],
 "metadata": {
  "kernelspec": {
   "display_name": "Python 3",
   "language": "python",
   "name": "python3"
  },
  "language_info": {
   "codemirror_mode": {
    "name": "ipython",
    "version": 3
   },
   "file_extension": ".py",
   "mimetype": "text/x-python",
   "name": "python",
   "nbconvert_exporter": "python",
   "pygments_lexer": "ipython3",
   "version": "3.8.5-final"
  }
 },
 "nbformat": 4,
 "nbformat_minor": 4
}