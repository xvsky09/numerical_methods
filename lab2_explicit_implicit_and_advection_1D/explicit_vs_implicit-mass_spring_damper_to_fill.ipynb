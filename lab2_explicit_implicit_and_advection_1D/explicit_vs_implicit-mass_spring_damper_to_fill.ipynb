{
 "cells": [
  {
   "cell_type": "markdown",
   "metadata": {
    "slideshow": {
     "slide_type": "slide"
    }
   },
   "source": [
    "## Explicit vs Implicit scheme"
   ]
  },
  {
   "attachments": {
    "Mass_spring_damper.png": {
     "image/png": "[encoded data removed]"
    }
   },
   "cell_type": "markdown",
   "metadata": {
    "slideshow": {
     "slide_type": "slide"
    }
   },
   "source": [
    "Consider a classical problem: mass on a spring with a damper.\n",
    "\n",
    "<img src=\"Mass_spring_damper.png\" style=\"height:200px\">\n",
    "\n",
    "It can be described by a second order, homogeneus, linear differatial equation with constant coefficients:\n",
    "\n",
    "$$ \n",
    "m \\ddot{x} + c \\dot{x} + kx = 0 \\Leftrightarrow \\\\ \n",
    "%\\Leftrightarrow m \\ddot{x} = - c \\dot{x} - kx  \\\\\n",
    "\\Leftrightarrow \\ddot{x} = - \\frac{c}{m} \\dot{x} - \\frac{k}{m} x \n",
    "$$\n",
    "\n",
    "\n",
    "Rewrite it \n",
    "\n",
    "$$\n",
    "\\underbrace{\n",
    "\\begin{bmatrix}\n",
    "\\ddot{x} \\\\\n",
    "\\dot{x}\n",
    "\\end{bmatrix}\n",
    "}_{\\boldsymbol{\\dot{z}}}\n",
    "=\n",
    "\\underbrace{\n",
    "\\begin{bmatrix}\n",
    "- \\frac{c}{m} & - \\frac{k}{m}\\\\\n",
    "            1 & 0 \n",
    "\\end{bmatrix}\n",
    "}_{\\mathbb{A}}\n",
    "\\underbrace{\n",
    "\\begin{bmatrix}\n",
    "\\dot{x}\\\\\n",
    "x\n",
    "\\end{bmatrix}\n",
    "}_{\\boldsymbol{z}}\n",
    "$$\n",
    "\n",
    "\n",
    "Introducing the variables $ z $ and $ \\mathbb{A}$ we can express the equation as\n",
    "\n",
    "$$\n",
    "\\boldsymbol{\\dot{z}} = \\mathbb{A}\\boldsymbol{z}\n",
    "$$\n"
   ]
  },
  {
   "source": [
    "## Energy of the system \n",
    "\n",
    "The total Energy of the system can be written as\n",
    "\n",
    "$$\n",
    "E_{tot} = E_{pot} + E_{kin} = \\frac{1}{2}kx^2 + \\frac{1}{2}m \\dot{x}^2 \n",
    "$$\n",
    "\n",
    "In case of zero dumping, it shall be constant. Check it for each scheme."
   ],
   "cell_type": "markdown",
   "metadata": {}
  },
  {
   "cell_type": "markdown",
   "metadata": {
    "slideshow": {
     "slide_type": "slide"
    }
   },
   "source": [
    "## Explicit Scheme\n",
    "\n",
    "$$\n",
    "\\frac{\\boldsymbol{z}_{t+1}-\\boldsymbol{z}_{t}}{\\Delta t} = \\mathbb{A}\\boldsymbol{z}_{t}\n",
    "\\Leftrightarrow\n",
    "$$\n",
    "\n",
    "\n",
    "$$\n",
    "\\Leftrightarrow\n",
    "\\boldsymbol{z}_{t+1} = \n",
    "\\underbrace{(\\mathbb{1} + \\Delta t \\mathbb{A})}_{\\mathbb{M}_E}\\boldsymbol{z}_t\n",
    "$$\n",
    "\n",
    "\n",
    "Notice, that in each step the result is multiplied by $ \\mathbb{M}_E $.\n",
    "\n",
    "We can find the [determinant](https://www.youtube.com/watch?v=Ip3X9LOh2dk&list=PLZHQObOWTQDPD3MizzM2xVFitgF8hE_ab&index=6&ab_channel=3Blue1Brown)\n",
    "of the transformation in order to asses the stability of the method.\n",
    "\n",
    "The stability condition is $ det( \\mathbb{M}_E ) \\leq 1 $.\n",
    "\n",
    "\n",
    "Let us calculate the determinant,\n",
    "\n",
    "$$\n",
    "det( \\mathbb{M}_E )\n",
    "=\n",
    "\\begin{vmatrix}\n",
    "1 - \\Delta t \\frac{c}{m} & - \\Delta t \\frac{k}{m}\\\\\n",
    "                \\Delta t & 1 \n",
    "\\end{vmatrix}\n",
    "= 1 - \\Delta t \\frac{c}{m} +  \\Delta t^2 \\frac{k}{m}\n",
    "$$\n",
    "\n",
    "\n",
    "Next, the result can be used to find maximum time step which will satisfy the stability condition:\n",
    "\n",
    "$$\n",
    "det( \\mathbb{M}_I ) \\leq 1 \\Leftrightarrow \\\\ \n",
    "\\Leftrightarrow 1 - \\Delta t \\frac{c}{m} +  \\Delta t^2 \\frac{k}{m} \\leq 1 \\\\\n",
    "\\Leftrightarrow \\Delta t k - c \\leq 0 \\\\\n",
    "\\Leftrightarrow \\Delta t \\leq \\frac{c}{k}\n",
    "$$\n"
   ]
  },
  {
   "cell_type": "code",
   "execution_count": null,
   "metadata": {
    "slideshow": {
     "slide_type": "-"
    }
   },
   "outputs": [],
   "source": [
    "from ipywidgets import interact, interactive, fixed, interact_manual\n",
    "import ipywidgets as widgets\n",
    "import numpy as np\n",
    "%matplotlib widget\n",
    "import matplotlib.pyplot as plt"
   ]
  },
  {
   "cell_type": "code",
   "execution_count": null,
   "metadata": {
    "slideshow": {
     "slide_type": "-"
    }
   },
   "outputs": [],
   "source": [
    "def make_plots(states,time,m,k):\n",
    "    fig, (ax1, ax2, ax3) = plt.subplots(1, 3, figsize=(12, 4))\n",
    "    fig.suptitle('Mass on a spring with damper')\n",
    "\n",
    "    ax1.plot(time, states[:,0], linestyle=\"-\", color=\"green\", label='x')\n",
    "    ax1.plot(time, states[:,1], linestyle=\"-\", color=\"blue\", label=r\"$\\dot{x}$\")\n",
    "    ax1.set(xlabel='time', ylabel=r'$x, \\dot{x}$')\n",
    "    ax1.set_title(r'$x(t), \\dot{x}(t)$')\n",
    "    ax1.legend([\"x\",r\"$\\dot{x}$\"],loc=\"upper right\") \n",
    "    ax1.grid(which='both')\n",
    "\n",
    "    ax2.plot(states[:,0], states[:,1], color=\"red\")\n",
    "    ax2.plot(states[0,0], states[0,1], marker='x', color='black', markersize=8)\n",
    "    ax2.set(xlabel='x', ylabel=r\"$\\dot{x}$\")\n",
    "    ax2.set_title(r'trajectory: $\\dot{x}$(x)')\n",
    "    ax2.grid(which='both')\n",
    "\n",
    "    E_pot = 0.5 * k* states[:,1]**2\n",
    "    E_kin = 0.5 * m* states[:,0]**2\n",
    "    E_total = E_kin + E_pot\n",
    "\n",
    "    ax3.plot(time, E_kin, label='E_{kinetic}', linestyle=\"-\",color=\"green\")\n",
    "    ax3.plot(time, E_pot, label='E_{potential}', linestyle=\"-\", color=\"blue\")\n",
    "    ax3.plot(time, E_total, label='E_{total}',marker='', linestyle=\":\", linewidth=2, color=\"red\",  markevery=int(len(E_total)/75) )\n",
    "    ax3.set(xlabel='time', ylabel='E')\n",
    "    ax3.set_title('Energy(t)')\n",
    "    ax3.legend([r\"$E_{kinetic}$\",r\"$E_{potential}$\",r\"$E_{total}$\"],loc=\"upper right\")\n",
    "    ax3.grid(which='both')\n",
    "    # ax3.set_yscale('log')\n",
    "\n",
    "    plt.show()"
   ]
  },
  {
   "cell_type": "code",
   "execution_count": null,
   "metadata": {},
   "outputs": [],
   "source": [
    "# properties of the system\n",
    "m = 1           # mass\n",
    "c = 1e-2*0      # damping coefficient\n",
    "k = 1e-0        # stiffnes of the spring\n",
    "\n",
    "# time step - solver settings\n",
    "T_end = 20              # [s] time to be simulated \n",
    "N = int(1e3)            # number of time steps\n",
    "dt = T_end/N            # time step length\n",
    "time = dt*np.arange(N)\n",
    "IC = np.array([1,0])    # IC [position,speed]\n",
    "\n",
    "# prepare data for computations\n",
    "# A = np.array([\n",
    "#     [..., ...],\n",
    "#     [..., ...]])"
   ]
  },
  {
   "cell_type": "code",
   "execution_count": null,
   "metadata": {
    "slideshow": {
     "slide_type": "slide"
    }
   },
   "outputs": [],
   "source": [
    "\n",
    "all_states_explicit = np.zeros([N,2])\n",
    "all_states_explicit[0] = IC\n",
    "\n",
    "\n",
    "\n",
    "# M_explicit = ...\n",
    "\n",
    "print(f\"dt: {dt} shall be less than c/k={c/k}\") \n",
    "print(f\"determinant M_explicit: {np.linalg.det(M_explicit)}\") # determinant =< 1 for stability\n",
    "\n",
    "\n",
    "for i in range(0,N-1):\n",
    "    all_states_explicit[i+1] = ...\n",
    "\n",
    "make_plots(all_states_explicit, time,m,k)"
   ]
  },
  {
   "cell_type": "markdown",
   "metadata": {
    "slideshow": {
     "slide_type": "slide"
    }
   },
   "source": [
    "# Impilicit Scheme\n",
    "\n",
    "In the implicit scheme, the derivative $\\boldsymbol{\\dot{z}}_{t+1}$ is taken from the future.\n",
    "\n",
    "\n",
    "$$\n",
    "\\frac{\\boldsymbol{z}_{t+1}-\\boldsymbol{z}_{t}}{\\Delta t} = \\mathbb{A}\\boldsymbol{z}_{t}\n",
    "\\Leftrightarrow\n",
    "$$\n",
    "\n",
    "\n",
    "$$\n",
    "\\Leftrightarrow \\boldsymbol{z}_{t+1} = \\underbrace{(1 - \\Delta t \\mathbb{A} )^{-1}}_{\\mathbb{M}_I} \\boldsymbol{z}_t\n",
    "$$\n",
    "\n",
    "To calculate next iteration, a system of equations, $(1 - \\Delta t \\mathbb{A} )^{-1}$, has to be solved.\n",
    "\n",
    "Let us calculate the determinant of $\\mathbb{M}_I$,\n",
    "\n",
    "$$\n",
    "det( \\mathbb{M}_I ) \n",
    "=\n",
    "\\bigg| \n",
    "\\begin{bmatrix}\n",
    "1 + \\Delta t \\frac{c}{m} &  \\Delta t \\frac{k}{m}\\\\\n",
    "               -\\Delta t & 1 \n",
    "\\end{bmatrix}\n",
    "^{-1}\n",
    "\\bigg|\n",
    "= \\frac{1}{\n",
    "\\bigg|\n",
    "\\begin{bmatrix}\n",
    "1 + \\Delta t \\frac{c}{m} &  \\Delta t \\frac{k}{m}\\\\\n",
    "               -\\Delta t & 1 \n",
    "\\end{bmatrix}\n",
    "\\bigg|\n",
    "}\n",
    "=\n",
    "\\frac{1}{1 + \\Delta t \\frac{c}{m} + \\Delta t^2 \\frac{k}{m}}\n",
    "$$\n",
    "\n",
    "Since the all the coefficients $m, k, c, \\Delta t$ are positive, the epression \n",
    "\n",
    "$$\n",
    "det( \\mathbb{M}_I ) \\leq 1\n",
    "$$\n",
    "\n",
    "is always true. This means, that the implicit scheme is unconditionaly stable."
   ]
  },
  {
   "cell_type": "code",
   "execution_count": null,
   "metadata": {
    "slideshow": {
     "slide_type": "slide"
    }
   },
   "outputs": [],
   "source": [
    "# M_implicit = ...\n",
    "print(f\"determinant M_implicit: {np.linalg.det(M_implicit)}\") # determinant =< 1 for stability\n",
    "\n",
    "all_states_implicit = np.zeros([N,2])\n",
    "all_states_implicit[0] = IC\n",
    "\n",
    "for i in range(0,N-1):\n",
    "    # all_states_implicit[i+1] = ...\n",
    "\n",
    "make_plots(all_states_implicit, time, m, k)"
   ]
  },
  {
   "source": [
    "# Midpoint Scheme\n",
    "\n",
    "In the midpoint scheme, the derivative of $\\dot{\\boldsymbol{z}}$ is expressed as an average of current and future state.\n",
    "$$\n",
    "\\frac{\\boldsymbol{z}_{t+1}-\\boldsymbol{z}_{t}}{\\Delta t} = \\mathbb{A} \\frac{\\boldsymbol{z}_{t+1}+\\boldsymbol{z}_{t}}{2}\n",
    "\\Leftrightarrow\n",
    "$$\n",
    "\n",
    "\n",
    "$$\n",
    "\\Leftrightarrow \n",
    "\\left(1 - \\frac{\\Delta t}{2} \\mathbb{A} \\right) \n",
    "\\boldsymbol{z}_{t+1} \n",
    "= \n",
    "\\left(1 + \\frac{\\Delta t}{2} \\mathbb{A} \\right) \n",
    "\\boldsymbol{z}_t \n",
    "$$\n",
    "\n",
    "$$\n",
    "\\Leftrightarrow \\boldsymbol{z}_{t+1} \n",
    "= \n",
    "\\underbrace{\\left(1 - \\frac{\\Delta t}{2} \\mathbb{A} \\right)^{-1}}_{\\mathbb{M}_{Mid_I}}\n",
    "\\underbrace{\\left(1 + \\frac{\\Delta t}{2} \\mathbb{A} \\right)}_{\\mathbb{M}_{Mid_{II}}} \n",
    "\\boldsymbol{z}_t \n",
    "$$\n"
   ],
   "cell_type": "markdown",
   "metadata": {}
  },
  {
   "cell_type": "code",
   "execution_count": null,
   "metadata": {},
   "outputs": [],
   "source": [
    "# M_midpoint_partI = ...\n",
    "# M_midpoint_partII = ...\n",
    "# M_midpoint = ... merge M_midpoint_partI and M_midpoint_partII\n",
    "\n",
    "print(f\"determinant M_midpoint: {np.linalg.det(M_midpoint)}\")\n",
    "\n",
    "all_states_midpoint = np.zeros([N,2])\n",
    "all_states_midpoint[0] = IC\n",
    "\n",
    "for i in range(0,N-1):\n",
    "    # all_states_midpoint[i+1] = ...\n",
    "\n",
    "make_plots(all_states_midpoint, time, m, k)"
   ]
  },
  {
   "cell_type": "markdown",
   "metadata": {
    "slideshow": {
     "slide_type": "slide"
    }
   },
   "source": [
    "# Frequency of oscillations\n",
    "\n",
    "Let us analyze the analitical solution of the oscilator.\n",
    "\n",
    "$$ \n",
    "m \\ddot{x} + c \\dot{x} + kx = 0 \n",
    "$$\n",
    "\n",
    "Assuming a solution of form $x(t)= e^{rt}$, the derivatives reads $ \\dot{x} = r e^{rt}$ and $\\ddot{x} = r^2 e^{rt}$.\n",
    "\n",
    "After pluging in and dividing by $ e^{rt}$, the characteristic equation appears as:\n",
    "\n",
    "$$ \n",
    "m r^2 + c r + k = 0 \n",
    "$$\n",
    "\n",
    "\n",
    "when $ c^2 -4mk < 0 $ the general solution is known as[<sup>1</sup>](#fn1) \n",
    "\n",
    "\n",
    "$$ \n",
    "x(t) = e^{\\alpha t} \\left[A cos(\\omega t) + B sin(\\omega t) \\right] =  C e^{\\alpha t}  cos(\\omega t - \\phi_0)\n",
    "$$\n",
    "\n",
    "where\n",
    "\n",
    "$$\n",
    "\\alpha = - \\frac{c}{2m} \\hspace{2em} and \\hspace{2em} \\omega=\\frac{\\sqrt{4mk - c^2}}{2m}\n",
    "$$\n",
    "\n",
    "\n",
    "Conclusions\n",
    "\n",
    "* The frequency of oscillations, $ \\omega $ are **always decreasing** due to the damping $ c $.\n",
    "\n",
    "* Observe the existence of the **numerical dumping** (aka numerical viscosity) in the implicit scheme.\n",
    "\n",
    "* Run the case with $c=0$ and check!\n",
    "\n",
    "* When $ c^2 -4mk \\geq 0 $ then there are no oscilations.\n",
    "\n",
    "## Conservation of the system's energy\n",
    "\n",
    "In case of no dumping $\\omega=\\sqrt{k/m}$.\n",
    "For simplicity, assume $\\phi_0=0$ then,\n",
    "\n",
    "$$\n",
    "x = C cos(\\omega t) \\\\\n",
    "\\dot{x} = - C sin(\\omega t) \n",
    "$$\n",
    "\n",
    "\n",
    "\n",
    "It is easy to show that the total energy is conserved:\n",
    "\n",
    "$$\n",
    "E_{total}  = \\frac{1}{2}kx^2 + \\frac{1}{2}m \\dot{x}^2  \n",
    "= \\frac{C}{2} \\left[ m \\omega^2 sin^2(\\omega t) + k cos^2(\\omega t)   \\right] = \\frac{kC}{2}\n",
    "$$\n",
    "\n",
    "Remember that $1 = cos^2(\\omega t) + sin^2(\\omega t)$.\n",
    "\n",
    "---\n",
    "<span id=\"fn1\"> \"Analiza matematyczna w zadaniach, część II\", W. Krysicki, L. Włodarski., 1974, Rozdział XIII, str. 288-289.</span>"
   ]
  },
  {
   "cell_type": "code",
   "execution_count": null,
   "metadata": {
    "slideshow": {
     "slide_type": "slide"
    }
   },
   "outputs": [],
   "source": [
    "# Frequency domain representation\n",
    "# inspired by:\n",
    "# https://pythontic.com/visualization/signals/fouriertransform_fft\n",
    "\n",
    "# Add the waves\n",
    "amplitude = all_states_implicit[:,0] + all_states_explicit[:,0]\n",
    "# amplitude = all_states_implicit[:,0]\n",
    "# amplitude = all_states_explicit[:,0]\n",
    "\n",
    "fourierTransform = np.fft.fft(amplitude)/len(amplitude)           # Normalize amplitude\n",
    "fourierTransform = fourierTransform[range(int(len(amplitude)/2))] # Exclude sampling frequency\n",
    "\n",
    "samplingFrequency = 1./dt\n",
    "\n",
    "tpCount     = len(amplitude)\n",
    "values      = np.arange(int(tpCount/2))\n",
    "timePeriod  = tpCount/samplingFrequency\n",
    "frequencies = values/timePeriod\n",
    "\n",
    "\n",
    "# Frequency domain representation\n",
    "# Create subplot\n",
    "\n",
    "figure, axis = plt.subplots(3, 1)\n",
    "plt.subplots_adjust(hspace=1)\n",
    "# Time domain representation for  wave 1\n",
    "axis[0].set_title('Explicit')\n",
    "axis[0].plot(time, all_states_explicit[:,0])\n",
    "axis[0].set_xlabel('Time')\n",
    "axis[0].set_ylabel('Amplitude')\n",
    "\n",
    "# Time domain representation for wave 2\n",
    "axis[1].set_title('Implicit')\n",
    "axis[1].plot(time, all_states_implicit[:,0])\n",
    "axis[1].set_xlabel('Time')\n",
    "axis[1].set_ylabel('Amplitude')\n",
    "\n",
    "# Frequency domain representation\n",
    "axis[2].set_title('Fourier transform depicting the frequency components')\n",
    "axis[2].plot(frequencies, abs(fourierTransform))\n",
    "axis[2].set_xlabel('Frequency')\n",
    "axis[2].set_ylabel('Amplitude')\n",
    "plt.show()\n",
    "\n",
    "##\n",
    "beta_undamped = np.sqrt(4*m*k)/(2*m) # [rad/s]\n",
    "beta_damped = np.sqrt(4*m*k-c*c)/(2*m) # [rad/s]\n",
    "\n",
    "print(f\"beta_damped = {beta_damped/(2*np.pi):.4e} [Hz] \\t beta_undamped = {beta_undamped/(2*np.pi):.4e} [Hz]\")\n",
    "print(f\"frequency peak at = {frequencies[int(np.argmax(abs(fourierTransform)))]:.4e} [Hz]\")\n"
   ]
  }
 ],
 "metadata": {
  "@webio": {
   "lastCommId": null,
   "lastKernelId": null
  },
  "celltoolbar": "Slideshow",
  "kernelspec": {
   "display_name": "Python 3",
   "language": "python",
   "name": "python3"
  },
  "language_info": {
   "codemirror_mode": {
    "name": "ipython",
    "version": 3
   },
   "file_extension": ".py",
   "mimetype": "text/x-python",
   "name": "python",
   "nbconvert_exporter": "python",
   "pygments_lexer": "ipython3",
   "version": "3.8.6"
  }
 },
 "nbformat": 4,
 "nbformat_minor": 4
}