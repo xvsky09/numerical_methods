{
 "metadata": {
  "language_info": {
   "codemirror_mode": {
    "name": "ipython",
    "version": 3
   },
   "file_extension": ".py",
   "mimetype": "text/x-python",
   "name": "python",
   "nbconvert_exporter": "python",
   "pygments_lexer": "ipython3",
   "version": "3.8.5-final"
  },
  "orig_nbformat": 2,
  "kernelspec": {
   "name": "python38564bitf6f61b6d739443d992db3bfd3acfcce2",
   "display_name": "Python 3.8.5 64-bit",
   "language": "python"
  }
 },
 "nbformat": 4,
 "nbformat_minor": 2,
 "cells": [
  {
   "source": [
    "## Unit conversion\n",
    "\n",
    "Let us find the value (conversion factor) of inch in terms of SI units, knowing the conversions for mass and pressure.\n",
    "\n",
    "\n",
    "$1 psi = \\frac{lb}{in^2}= 6894.76 Pa$\n",
    "\n",
    "Notice that *psi* is an abbreviation for pounds per square inch.\n",
    "A unit mass in one system have to correspond to a unit of mass in another system.\n",
    "Thus we have to transform $ Pa = \\frac{N}{m^2} $ to a form where mass is used, i.e. $\\frac{kg}{m^2}$\n",
    "\n",
    "$$\n",
    "6894.76 [Pa]  = \\underbrace{702.830}_{\\frac{6894.76 [N]}{9.81 [m/s^2]}} =  \\frac{kg}{m^2}$\n",
    "$$\n",
    "\n",
    "Remember that $F = ma$ so $1N =1kg*9.81 m/s2$ --> $1kg = 1N/(9.81 m/s2) $\n",
    "\n",
    "\n",
    "We have a system of equations to solve:\n",
    "\n",
    "$$\n",
    "1\\frac{lb}{in^2} = 702.830 \\frac{kg}{m^2} \\\\\n",
    "1 lb = 0.454 kg\n",
    "$$\n",
    "\n",
    "Apply logarithm\n",
    "\n",
    "$$\n",
    "log(1) + log(lb) - 2 log(in) =  log(702.830) \\text{[our units]} \\\\\n",
    "log(1) + log(lb) + 0 log(in) =  log(0.454) \\text{[our units]} \\\\\n",
    "$$\n",
    "\n",
    "Rewrite in matrix notation\n",
    "\n",
    "$$\n",
    "\\begin{bmatrix}\n",
    "1 & -2 \\\\\n",
    "1 & 0  \n",
    "\\end{bmatrix}\n",
    "\\begin{bmatrix}\n",
    "log(lb) \\\\\n",
    "log(in) \n",
    "\\end{bmatrix}\n",
    "=\n",
    "\\begin{bmatrix}\n",
    "log(702.830) \\\\\n",
    "log(0.454)\n",
    "\\end{bmatrix}\n",
    "$$\n",
    "\n",
    "And solve...\n",
    "\n",
    "Obviously, the answer shall be 1 inch =  0.0254 m"
   ],
   "cell_type": "markdown",
   "metadata": {}
  },
  {
   "cell_type": "code",
   "execution_count": 1,
   "metadata": {},
   "outputs": [],
   "source": [
    "import numpy as np\n",
    "from numpy import log "
   ]
  },
  {
   "cell_type": "code",
   "execution_count": 2,
   "metadata": {},
   "outputs": [
    {
     "output_type": "execute_result",
     "data": {
      "text/plain": [
       "array([-0.78965808, -3.67238656])"
      ]
     },
     "metadata": {},
     "execution_count": 2
    }
   ],
   "source": [
    "\n",
    "A = np.array([[1,-2], [1,0]])\n",
    "b = np.array([log(702.83),log(0.454)])\n",
    "x = np.linalg.solve(A, b)\n",
    "x"
   ]
  },
  {
   "cell_type": "code",
   "execution_count": 3,
   "metadata": {},
   "outputs": [
    {
     "output_type": "execute_result",
     "data": {
      "text/plain": [
       "array([0.454     , 0.02541574])"
      ]
     },
     "metadata": {},
     "execution_count": 3
    }
   ],
   "source": [
    "np.power(np.e,x)\n"
   ]
  },
  {
   "source": [
    "1 psi = lb/inch2  =  6894.76 Pa = N/m2 = 6894.76/9.81 [kg/m2]  # 1 N = 1 kg * m/s2\n",
    "\n",
    "1 lb =  453.59237 g = 0.45359237 kg\n",
    "\n",
    "1 inch =  0.0254 m "
   ],
   "cell_type": "markdown",
   "metadata": {}
  },
  {
   "cell_type": "code",
   "execution_count": 62,
   "metadata": {},
   "outputs": [
    {
     "output_type": "execute_result",
     "data": {
      "text/plain": [
       "702.8297655453619"
      ]
     },
     "metadata": {},
     "execution_count": 62
    }
   ],
   "source": [
    "6894.76/9.81"
   ]
  }
 ]
}