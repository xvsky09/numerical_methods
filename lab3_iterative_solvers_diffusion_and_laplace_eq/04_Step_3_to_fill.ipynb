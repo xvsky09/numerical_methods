{
 "cells": [
  {
   "cell_type": "raw",
   "metadata": {},
   "source": [
    "Text provided under a Creative Commons Attribution license, CC-BY.  All code is made available under the FSF-approved BSD-3 license.  (c) Lorena A. Barba, Gilbert F. Forsyth 2017. Thanks to NSF for support via CAREER award #1149784."
   ]
  },
  {
   "cell_type": "markdown",
   "metadata": {},
   "source": [
    "[@LorenaABarba](https://twitter.com/LorenaABarba)\n",
    "\n",
    "[@ggruszczynski](https://github.com/ggruszczynski)"
   ]
  },
  {
   "cell_type": "markdown",
   "metadata": {},
   "source": [
    "12 steps to Navier–Stokes\n",
    "======\n",
    "***"
   ]
  },
  {
   "cell_type": "markdown",
   "metadata": {},
   "source": [
    "You should have completed Steps [1](./01_Step_1.ipynb) and [2](./02_Step_2.ipynb) before continuing. This Jupyter notebook continues the presentation of the **12 steps to Navier–Stokes**, the practical module taught in the interactive CFD class of [Prof. Lorena Barba](http://lorenabarba.com). "
   ]
  },
  {
   "cell_type": "markdown",
   "metadata": {},
   "source": [
    "Step 3: Diffusion Equation in 1-D\n",
    "-----\n",
    "***"
   ]
  },
  {
   "cell_type": "markdown",
   "metadata": {},
   "source": [
    "The one-dimensional diffusion equation is:\n",
    "\n",
    "$$\\frac{\\partial u}{\\partial t}= \\nu \\frac{\\partial^2 u}{\\partial x^2}$$\n",
    "\n",
    "The first thing you should notice is that —unlike the previous two simple equations we have studied— this equation has a second-order derivative. We first need to learn what to do with it!"
   ]
  },
  {
   "cell_type": "markdown",
   "metadata": {},
   "source": [
    "### Discretizing $\\frac{\\partial ^2 u}{\\partial x^2}$"
   ]
  },
  {
   "cell_type": "markdown",
   "metadata": {},
   "source": [
    "The second-order derivative can be represented geometrically as the line tangent to the curve given by the first derivative.  We will discretize the second-order derivative with a Central Difference scheme: a combination of Forward Difference and Backward Difference of the first derivative.  Consider the Taylor expansion of $u_{i+1}$ and $u_{i-1}$ around $u_i$:\n",
    "\n",
    "$u_{i+1} = u_i + \\Delta x \\frac{\\partial u}{\\partial x}\\bigg|_i + \\frac{\\Delta x^2}{2} \\frac{\\partial ^2 u}{\\partial x^2}\\bigg|_i + \\frac{\\Delta x^3}{3!} \\frac{\\partial ^3 u}{\\partial x^3}\\bigg|_i + O(\\Delta x^4)$\n",
    "\n",
    "$u_{i-1} = u_i - \\Delta x \\frac{\\partial u}{\\partial x}\\bigg|_i + \\frac{\\Delta x^2}{2} \\frac{\\partial ^2 u}{\\partial x^2}\\bigg|_i - \\frac{\\Delta x^3}{3!} \\frac{\\partial ^3 u}{\\partial x^3}\\bigg|_i + O(\\Delta x^4)$\n",
    "\n",
    "If we add these two expansions, you can see that the odd-numbered derivative terms will cancel each other out.  If we neglect any terms of $O(\\Delta x^4)$ or higher (and really, those are very small), then we can rearrange the sum of these two expansions to solve for our second-derivative.  \n"
   ]
  },
  {
   "cell_type": "markdown",
   "metadata": {},
   "source": [
    "$u_{i+1} + u_{i-1} = 2u_i+\\Delta x^2 \\frac{\\partial ^2 u}{\\partial x^2}\\bigg|_i + O(\\Delta x^4)$\n",
    "\n",
    "Then rearrange to solve for $\\frac{\\partial ^2 u}{\\partial x^2}\\bigg|_i$ and the result is:\n",
    "\n",
    "$$\\frac{\\partial ^2 u}{\\partial x^2}=\\frac{u_{i+1}-2u_{i}+u_{i-1}}{\\Delta x^2} + O(\\Delta x^4)$$\n"
   ]
  },
  {
   "cell_type": "markdown",
   "metadata": {},
   "source": [
    "### Back to Step 3"
   ]
  },
  {
   "cell_type": "markdown",
   "metadata": {},
   "source": [
    "We can now write the discretized version of the diffusion equation in 1D:\n",
    "\n",
    "$$\\frac{u_{i}^{n+1}-u_{i}^{n}}{\\Delta t}=\\nu\\frac{u_{i+1}^{n}-2u_{i}^{n}+u_{i-1}^{n}}{\\Delta x^2}$$\n",
    "\n",
    "As before, we notice that once we have an initial condition, the only unknown is $u_{i}^{n+1}$, so we re-arrange the equation solving for our unknown:\n",
    "\n",
    "$$u_{i}^{n+1}=u_{i}^{n}+\\frac{\\nu\\Delta t}{\\Delta x^2}(u_{i+1}^{n}-2u_{i}^{n}+u_{i-1}^{n})$$\n",
    "\n",
    "The above discrete equation allows us to write a program to advance a solution in time. But we need an initial condition. Let's continue using our favorite: the hat function. So, at $t=0$, $u=2$ in the interval $0.5\\le x\\le 1$ and $u=1$ everywhere else. We are ready to number-crunch!"
   ]
  },
  {
   "cell_type": "code",
   "execution_count": null,
   "metadata": {},
   "outputs": [],
   "source": [
    "import numpy                     #loading our favorite library\n",
    "from matplotlib import pyplot    #and the useful plotting library\n",
    "%matplotlib inline\n",
    "\n",
    "nx = 128\n",
    "domain_length = 64\n",
    "dx = domain_length / (nx-1)\n",
    "xspace = numpy.linspace(0, domain_length, nx)\n",
    "\n",
    "nt = 100  #the number of timesteps we want to calculate\n",
    "nu = 5   #the value of viscosity\n",
    "sigma = .2 #sigma is a parameter, we'll learn more about it later\n",
    "dt = sigma * dx**2 / nu #dt is defined using sigma ... more later!\n",
    "\n",
    "u_IC = numpy.ones(nx)      #numpy function ones()\n",
    "u_IC[int((nx-1)/4):int(nx/2 + 1)] = 2 #setting u = 2 between 0.5 and 1 as per our I.C.s\n"
   ]
  },
  {
   "cell_type": "code",
   "execution_count": null,
   "metadata": {
    "collapsed": false,
    "jupyter": {
     "outputs_hidden": false
    }
   },
   "outputs": [],
   "source": [
    "\n",
    "def calc_diffusion(IC,nx,nt,nu,dt):\n",
    "    u = IC.copy()\n",
    "    un = IC.copy() #our placeholder array, un, to advance the solution in time\n",
    "\n",
    "    for n in range(nt):  #iterate through time\n",
    "        un = u.copy() ##copy the existing values of u into un\n",
    "        for i in range(1, nx - 1):\n",
    "            # u[i] = ...\n",
    "    return u\n",
    "\n",
    "u_FD = calc_diffusion(u_IC,nx,nt,nu,dt)\n",
    "pyplot.plot(xspace, u_FD)\n"
   ]
  },
  {
   "source": [
    "# Advection-Diffusion of a Gaussian Hill\n",
    "\n",
    "In case of an isotropic diffusion, the analytical solution describing evolution of a Gaussian Hill can be expressed as \n",
    "\n",
    "$$\n",
    "C(\\boldsymbol{x}, t)=\\frac{\\left(2\\pi\\sigma_{0}^{2}\\right)^{D/2} }{\\left(2\\pi(\\sigma_{0}^{2} + 2 k t)\\right)^{D/2}} \n",
    "C_0 \\exp \\left(-\\frac{\\left(\\boldsymbol{x}-\\boldsymbol{x}_{0}-\\boldsymbol{u} t\\right)^{2}}{2\\left(\\sigma_{0}^{2}+ 2 k t\\right)}\\right)\n",
    "$$\n",
    "\n",
    "where:\n",
    "\n",
    "* $C_0$ - initial concentration,\n",
    "* $D$ - number of dimensions, \n",
    "* $t$ - time, \n",
    "* $k$ - conductivity, \n",
    "* $\\boldsymbol{u}$ - velocity of advection\n",
    "* $\\sigma_{0}$ the initial variance of the distribution.\n",
    "\n",
    "## Task\n",
    "\n",
    "1) Implement the `GaussianHillAnal` class. \n",
    "It shall have a method `get_concentration_ND(self, X, t)`, which will return the concentration at given time and space.\n",
    "\n",
    "2) Benchmark the FD code against analytical solution."
   ],
   "cell_type": "markdown",
   "metadata": {}
  },
  {
   "cell_type": "code",
   "execution_count": null,
   "metadata": {},
   "outputs": [],
   "source": [
    "from sympy.matrices import Matrix\n",
    "import numpy as np\n",
    "import sympy as sp\n",
    "\n",
    "class GaussianHillAnal:\n",
    "    def __init__(self, C0, X0, Sigma2_0, k, U, D):\n",
    "        \"\"\"\n",
    "        :param C0: initial concentration\n",
    "        :param X0: initial position of the hill's centre = Matrix([x0, y0])\n",
    "        :param U:  velocity = Matrix([ux, uy])\n",
    "        :param Sigma2_0: initial width of the Gaussian Hill\n",
    "        :param k: conductivity\n",
    "        :param dimenions: number of dimensions\n",
    "        \"\"\"\n",
    "        self.C0 = C0\n",
    "        self.X0 = X0\n",
    "        self.U = U\n",
    "        self.Sigma2_0 = Sigma2_0\n",
    "        self.k = k\n",
    "        self.dim = D\n",
    "\n",
    "    def get_concentration_ND(self, X, t):\n",
    "        # TODO\n",
    "        return C\n",
    "\n"
   ]
  },
  {
   "cell_type": "code",
   "execution_count": null,
   "metadata": {},
   "outputs": [],
   "source": [
    "conductivity = nu\n",
    "\n",
    "nt = 200  #the number of timesteps we want to calculate\n",
    "nu = 5   #the value of viscosity\n",
    "sigma = .2 #sigma is a parameter, we'll learn more about it later\n",
    "dt = sigma * dx**2 / conductivity #dt is defined using sigma ... more later!\n",
    "\n",
    "time_0    = dt*nt/2     # initial contidion for FD\n",
    "time_spot = dt*nt       # time to be simulated (by FD and analytically)\n",
    "\n",
    "X0 = Matrix([domain_length/2.]) # center of the hill\n",
    "C0 = 1.                 # concentration\n",
    "variance = 30           # initial variance\n",
    "reference_level = 1     \n",
    "\n",
    "T_0 = np.zeros(nx)\n",
    "T_anal = np.zeros(nx)\n",
    "\n",
    "gha = GaussianHillAnal(C0, X0, variance, conductivity, Matrix([0]), D=1)\n",
    "\n",
    "for i in range(nx):\n",
    "    T_0[i] = reference_level + gha.get_concentration_ND(Matrix([xspace[i]]), time_0)  \n",
    "    T_anal[i] = reference_level + gha.get_concentration_ND(Matrix([xspace[i]]), time_spot)  \n",
    "\n",
    "T_FD = calc_diffusion(T_0,nx,nt,nu,dt)\n",
    "\n",
    "import matplotlib.pyplot as plt\n",
    "plt.rcParams.update({'font.size': 16})\n",
    "figure, axis = plt.subplots(1, 1, figsize=(8, 6))\n",
    "plt.subplots_adjust(hspace=1)\n",
    "axis.set_title('Diffusion of a Gaussian Hill')\n",
    "axis.plot(xspace, T_0, label=r'$T_{0}$')\n",
    "axis.plot(xspace, T_anal, label=r'$T_{anal}$')\n",
    "axis.plot(xspace, T_FD, label=r'$T_{FD}$', marker='x', linestyle=\"\", markevery=1)\n",
    "axis.set_xlabel('x')\n",
    "axis.set_ylabel('Concentration')\n",
    "axis.legend(loc=\"upper right\")\n"
   ]
  },
  {
   "source": [
    "## Questions:\n",
    "\n",
    "* How do you find the FD solution compared to analytical one? Experiment with different dx, dt.\n",
    "\n",
    "* How would you asses that your mesh is fine enought in a real CFD simulation (without analytical solution)? "
   ],
   "cell_type": "markdown",
   "metadata": {}
  },
  {
   "source": [
    "# Balance of Enthalpy\n",
    "\n",
    "The simplified balance of Enthalpy $H=\\rho c_p T$ is known as:\n",
    "\\begin{align}\n",
    "\\int \\frac{\\partial }{\\partial t} (\\rho c_p T ) dV +  \\oint  ( \\rho c_p T \\boldsymbol{u} ) \\cdot \\boldsymbol{n} dS &= \\oint \\boldsymbol{n} \\cdot \\boldsymbol{q} dS + \\int \\dot{q} dV \\\\ \n",
    "\\boldsymbol{q} &= k \\nabla T\n",
    "\\end{align}\n",
    "The heat flux $ \\boldsymbol{q} $ is related to the thermal conductivity coefficient $k [ W/mK] $. \n",
    "\n",
    "Applying the GGO theorem, we obtain:\n",
    "\n",
    "$$\n",
    "\\frac{\\partial }{\\partial t} (\\rho c_p T ) + \\nabla \\cdot (\\boldsymbol{u} \\rho c_p T ) = \\nabla \\cdot (k \\nabla T)  + \\dot{q} \n",
    "$$\n"
   ],
   "cell_type": "markdown",
   "metadata": {}
  },
  {
   "source": [
    "\n",
    "\n",
    "## Conservative and non-conservative scheme\n",
    "\n",
    "Consider a 1D, unsteady heat transfer equation with variable conduction coefficient.\n",
    "For simplicity, assume that the heat capacity $ \\rho c_p = 1 $.\n",
    "\n",
    "The equation be expressed in two mathematically equivalent forms:\n",
    "$$\n",
    "\\frac{\\partial u}{\\partial t}=\\frac{\\partial}{\\partial x}\\left(k(x) \\frac{\\partial u}{\\partial x}\\right) \\\\\n",
    "$$\n",
    "or \n",
    "$$\n",
    "\\frac{\\partial u}{\\partial t}=\\frac{\\partial u}{\\partial x} \\frac{\\partial k}{\\partial x}+k(x) \\frac{\\partial^{2} u}{\\partial x^{2}}\n",
    "$$\n",
    "\n",
    "Both of these continous forms can be discretized. \n",
    "\n",
    "First form leads to the *conservative scheme*\n",
    "\n",
    "$$\n",
    "\\frac{u_{i}^{n+1}-u_{i}^{n}}{\\Delta t}=\\frac{1}{\\Delta x^{2}}\\left(k_{i+\\frac{1}{2}}\\left(u_{i+1}^{n}-u_{i}^{n}\\right)-k_{i-\\frac{1}{2}}\\left(u_{i}^{n}-u_{i-1}^{n}\\right)\\right)\n",
    "$$\n",
    "\n",
    "\n",
    "while the second form results in a *non-conservative scheme*\n",
    "\n",
    "$$\n",
    "\\frac{u_{i}^{n+1}-u_{i}^{n}}{\\Delta t}=\\frac{1}{\\Delta x^{2}}\\left(\\frac{\\left(k_{i+1}-k_{i-1}\\right)}{2} \\frac{\\left(u_{i+1}^{n}-u_{i-1}^{n}\\right)}{2}+k_{i}\\left(u_{i+1}^{n}+u_{i-1}^{n}-2 u_{i}^{n}\\right)\\right)\n",
    "$$\n"
   ],
   "cell_type": "markdown",
   "metadata": {}
  },
  {
   "source": [
    "## Task\n",
    "\n",
    "* Implement both the *conservative* and the *non-conservative* schemes.\n",
    "\n",
    "* Impose the following BC: \n",
    "\n",
    "```\n",
    "u[int(nx/4)] = 10.\n",
    "u[-int(nx/4)] = 1.\n",
    "\n",
    "u[0] = 5.\n",
    "u[-1] = 5.\n",
    "```\n",
    "\n",
    "* Run the simulation for different $k$ and compare results. Which physical quantity may become *not conserved* ?"
   ],
   "cell_type": "markdown",
   "metadata": {}
  },
  {
   "cell_type": "code",
   "execution_count": null,
   "metadata": {},
   "outputs": [],
   "source": [
    "# variable conductivity\n",
    "k = 1.*numpy.ones(nx)                   # be aware that dt = sigma * dx**2 / nu\n",
    "k[:int(nx/2)] = 0.5                     # try with 0.1 \n",
    "\n",
    "u_IC = 5.*numpy.ones(nx)                 #numpy function ones()\n",
    "u_IC[int((nx-1)/4):int(nx/2 + 1)] = 10   #setting u = 2 between 0.5 and 1 as per our I.C.s\n",
    "dt = sigma * dx**2 / max(k)              #dt is defined using sigma \n",
    "\n",
    "nt = 10000  # the number of timesteps we want to calculate\n",
    "\n",
    "def calc_diffusion_variable_conductivity(IC,nx,nt,k,dt):\n",
    "    u = IC.copy()\n",
    "    un = IC.copy() #our placeholder array, un, to advance the solution in time\n",
    "\n",
    "    for n in range(nt):  #iterate through time\n",
    "        # dont forget about the BC...\n",
    "\n",
    "        un = u.copy() ##copy the existing values of u into un\n",
    "        for i in range(1, nx - 1):\n",
    "            # this is obviously bad: du/dt = k (d^2)u/(dx)^2 \n",
    "            # u[i] = un[i] + k[i] * dt / dx**2 * (un[i+1] - 2 * un[i] + un[i-1])\n",
    "\n",
    "            # non conservative scheme\n",
    "            # u[i] = ...\n",
    "\n",
    "            # conservative scheme\n",
    "            # kf = ... # forward  stencil for k_(i+1/2)\n",
    "            # kb = ... # backward stencil for k_(i-1/2)\n",
    "            # u[i] = ...\n",
    "\n",
    "    return u\n",
    "\n",
    "u_FD = calc_diffusion_variable_conductivity(u_IC,nx,nt,k,dt)\n",
    "pyplot.plot(xspace, u_FD)"
   ]
  },
  {
   "cell_type": "markdown",
   "metadata": {},
   "source": [
    "## Learn More"
   ]
  },
  {
   "cell_type": "markdown",
   "metadata": {},
   "source": [
    "For a careful walk-through of the discretization of the diffusion equation with finite differences (and all steps from 1 to 4), watch **Video Lesson 4** by Prof. Barba on YouTube."
   ]
  },
  {
   "cell_type": "code",
   "execution_count": null,
   "metadata": {
    "collapsed": false,
    "jupyter": {
     "outputs_hidden": false
    }
   },
   "outputs": [],
   "source": [
    "from IPython.display import YouTubeVideo\n",
    "YouTubeVideo('y2WaK7_iMRI')"
   ]
  },
  {
   "cell_type": "code",
   "execution_count": null,
   "metadata": {
    "collapsed": false,
    "jupyter": {
     "outputs_hidden": false
    }
   },
   "outputs": [],
   "source": [
    "from IPython.core.display import HTML\n",
    "def css_styling():\n",
    "    styles = open(\"../styles/custom.css\", \"r\").read()\n",
    "    return HTML(styles)\n",
    "css_styling()"
   ]
  },
  {
   "cell_type": "markdown",
   "metadata": {},
   "source": [
    "> (The cell above executes the style for this notebook.)"
   ]
  }
 ],
 "metadata": {
  "kernelspec": {
   "display_name": "Python 3",
   "language": "python",
   "name": "python3"
  },
  "language_info": {
   "codemirror_mode": {
    "name": "ipython",
    "version": 3
   },
   "file_extension": ".py",
   "mimetype": "text/x-python",
   "name": "python",
   "nbconvert_exporter": "python",
   "pygments_lexer": "ipython3",
   "version": "3.8.5-final"
  }
 },
 "nbformat": 4,
 "nbformat_minor": 4
}