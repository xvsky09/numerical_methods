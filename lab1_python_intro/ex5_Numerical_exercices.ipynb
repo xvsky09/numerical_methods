{
 "cells": [
  {
   "cell_type": "markdown",
   "metadata": {},
   "source": [
    "# Numerical methods - warm up\n",
    "\n",
    "## Machine precision"
   ]
  },
  {
   "cell_type": "code",
   "execution_count": 121,
   "metadata": {},
   "outputs": [
    {
     "name": "stdout",
     "output_type": "stream",
     "text": [
      "Machine precision is: 2.220446049250313e-16\n"
     ]
    }
   ],
   "source": [
    "\n",
    "machEps = 1; # 2.220446049250313e-16\n",
    "\n",
    "while 1 + machEps/2 > 1:\n",
    "    machEps = machEps/2\n",
    "    # print(f'machEps: {machEps}')\n",
    "\n",
    "print(f'Machine precision is: {machEps}')"
   ]
  },
  {
   "cell_type": "markdown",
   "metadata": {},
   "source": [
    "## Condition number\n",
    "\n",
    "The condition number describes how  much the output value of a function can change due to the variation in the input (IC, BC, measurments error etc).\n",
    "\n",
    "Consider a simple case, the dot product of two vectors:\n",
    "\n",
    "* $u = [1, 2, 3]$ and $v = [3, 9, -10]$\n",
    "* $u = [1.02, 1.98, 3.06]$ and $v = [3, 9, -10]$. \n",
    "\n",
    "The u vector is disturbed by 2% (error in input data).\n",
    "\n",
    "Observe that the condition number depends on the particular values of the data.\n",
    "\n",
    "Check the same case with $v = [3,9.10]$\n"
   ]
  },
  {
   "cell_type": "code",
   "execution_count": 124,
   "metadata": {},
   "outputs": [],
   "source": [
    "import numpy as np\n",
    "from numpy import linalg as LA"
   ]
  },
  {
   "cell_type": "code",
   "execution_count": 35,
   "metadata": {},
   "outputs": [
    {
     "data": {
      "text/plain": [
       "-2"
      ]
     },
     "execution_count": 35,
     "metadata": {},
     "output_type": "execute_result"
    }
   ],
   "source": [
    "u=np.array([1, 2, 3])\n",
    "v=np.array([4, 12, -10])\n",
    "\n",
    "\n",
    "u @ v"
   ]
  },
  {
   "cell_type": "code",
   "execution_count": 125,
   "metadata": {},
   "outputs": [
    {
     "data": {
      "text/plain": [
       "-1.0399999999999991"
      ]
     },
     "execution_count": 125,
     "metadata": {},
     "output_type": "execute_result"
    }
   ],
   "source": [
    "u=np.array([1.02, 2.04, 2.96])\n",
    "v=np.array([4, 12, -10])\n",
    "\n",
    "u @ v"
   ]
  },
  {
   "cell_type": "markdown",
   "metadata": {},
   "source": [
    "Given a function $f=f(x)$, input $x$ and a perturbation $ \\delta x $ the relative condition number $ \\kappa $ is defined as:\n",
    "\n",
    "$$\n",
    "\\kappa = \\lim _{\\varepsilon \\rightarrow 0} \\sup _{\\|\\delta x\\| \\leq \\varepsilon} \\frac{\\|f(x + \\delta x) - f(x) \\| /\\|f(x)\\|}{\\|\\delta x\\| /\\|x\\|}\n",
    "$$\n",
    "\n",
    "Using the definition of the derivative, the formula can be simplified:\n",
    "\n",
    "$$\n",
    "\\kappa =\\lim _{\\varepsilon \\rightarrow 0} \\sup _{\\|\\delta x\\| \\leq \\varepsilon} \\frac{\\|f'(x)  \\| \\|x\\| }{\\|f(x)\\|}\n",
    "$$\n"
   ]
  },
  {
   "cell_type": "markdown",
   "metadata": {},
   "source": [
    "### Exercise\n",
    "\n",
    "Calculate the condition number $ \\kappa $ for the function which calculates the dot product. Use the same data as before."
   ]
  },
  {
   "cell_type": "markdown",
   "metadata": {},
   "source": [
    "### Source\n",
    "\n",
    "\"Metody Numeryczne dla studentów technik informacyjnych\", P. Tatjewski, Warszawa 2013"
   ]
  },
  {
   "source": [
    "## Finite Difference Method\n",
    "\n",
    "The definition of derivative is generally know as\n",
    "\n",
    "$$\n",
    "f^{\\prime}(x)=\\lim _{h \\rightarrow 0} \\frac{f(x+h)-f(x)}{h}\n",
    "$$\n",
    "\n",
    "From the numerical perspective, a few schemes can be proposed to estimate the value of the derivate.\n",
    "Knowing the value of the function at some point $ x_0 $ and in the neighbouring points $x_0+h, x_0-h$ the following approaches can be utilized: \n",
    "\n",
    "* forward finite difference\n",
    "\n",
    "\n",
    "$$\n",
    "f^{\\prime}(x_0)= \\frac{f(x_0+h)-f(x_0)}{h}\n",
    "$$\n",
    "\n",
    "* backward finite difference\n",
    "\n",
    "$$\n",
    "f^{\\prime}(x_0)= \\frac{f(x_0)-f(x_0-h)}{h}\n",
    "$$\n",
    "\n",
    "\n",
    "* central finite difference (average of the first two)\n",
    "\n",
    "$$\n",
    "f^{\\prime}(x_0)= \\frac{f(x_0+h)-f(x_0-h)}{2h}\n",
    "$$\n",
    "\n",
    "\n",
    "### Exercise \n",
    "\n",
    "Estimate the value of the derivative of $ sin(x) $ at $x_0 = \\pi /4$ using central and forward FD.\n",
    "\n",
    "* Plot the influence of $ h $ on the error. Use the log axes.\n",
    "\n",
    "* What is the order of the method?\n",
    "\n",
    "* What is the optimal $ h $ ? \n"
   ],
   "cell_type": "markdown",
   "metadata": {}
  }
 ],
 "metadata": {
  "kernelspec": {
   "display_name": "Python 3.8.5 64-bit ('lectures-env')",
   "language": "python",
   "name": "python38564bitlecturesenvb0545fc44d3c4304943e069658462f94"
  },
  "language_info": {
   "codemirror_mode": {
    "name": "ipython",
    "version": 3
   },
   "file_extension": ".py",
   "mimetype": "text/x-python",
   "name": "python",
   "nbconvert_exporter": "python",
   "pygments_lexer": "ipython3",
   "version": "3.8.5"
  }
 },
 "nbformat": 4,
 "nbformat_minor": 4
}