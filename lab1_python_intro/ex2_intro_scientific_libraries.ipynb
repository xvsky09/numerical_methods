{
 "cells": [
  {
   "cell_type": "markdown",
   "metadata": {},
   "source": [
    "# Welcome to the jungle: Numpy, Scipy, Sympy, Matplotlib, Pandas\n",
    "\n",
    "\n",
    "Numpy is a library (written is C) for numerical calculations.\n",
    "\n",
    "Scipy is written on the top of numpy, and can perfrom some more advenced task like integration, optimization, signal processingm fourier transform, etc.\n",
    "\n",
    "Sympy is for symbolic operations.\n",
    "\n",
    "Matplotlib is used to visualize data.\n",
    "\n",
    "Pandas is like excel for python ;)\n"
   ]
  },
  {
   "cell_type": "markdown",
   "metadata": {},
   "source": [
    "## Numpy\n"
   ]
  },
  {
   "cell_type": "code",
   "execution_count": null,
   "metadata": {},
   "outputs": [],
   "source": [
    "import numpy as np"
   ]
  },
  {
   "cell_type": "code",
   "execution_count": null,
   "metadata": {},
   "outputs": [],
   "source": [
    "np.ones((2,3))\n",
    "np.eye(4)"
   ]
  },
  {
   "cell_type": "code",
   "execution_count": null,
   "metadata": {},
   "outputs": [],
   "source": [
    "tab2D = np.array( [[ i*2+j for j in range(2)] for i in range(3)])\n",
    "tab2D"
   ]
  },
  {
   "cell_type": "markdown",
   "metadata": {},
   "source": [
    "### Exercice:\n",
    "\n",
    "Generate a 2D matrix 5x5 where $$ x_{i,j} = i + 100j $$\n",
    "Display its 3rd column.\n",
    "Display element at position 2,3.\n"
   ]
  },
  {
   "cell_type": "markdown",
   "metadata": {},
   "source": [
    "## System of linear equations\n",
    "\n",
    "Solve the system of equations 3 * x0 + x1 = 9 and x0 + 2 * x1 = 8\n",
    "\n",
    "See the [docs](https://numpy.org/doc/stable/reference/generated/numpy.linalg.solve.html)"
   ]
  },
  {
   "cell_type": "code",
   "execution_count": 4,
   "metadata": {},
   "outputs": [
    {
     "output_type": "execute_result",
     "data": {
      "text/plain": [
       "array([2., 3.])"
      ]
     },
     "metadata": {},
     "execution_count": 4
    }
   ],
   "source": [
    "A = np.array([[3,1], [1,2]])\n",
    "b = np.array([9,8])\n",
    "x = np.linalg.solve(A, b)\n",
    "x"
   ]
  },
  {
   "cell_type": "code",
   "execution_count": 5,
   "metadata": {},
   "outputs": [
    {
     "output_type": "execute_result",
     "data": {
      "text/plain": [
       "True"
      ]
     },
     "metadata": {},
     "execution_count": 5
    }
   ],
   "source": [
    "np.allclose(np.dot(A, x), b)"
   ]
  },
  {
   "cell_type": "code",
   "execution_count": 6,
   "metadata": {},
   "outputs": [
    {
     "output_type": "execute_result",
     "data": {
      "text/plain": [
       "array([9., 8.])"
      ]
     },
     "metadata": {},
     "execution_count": 6
    }
   ],
   "source": [
    "# alternatively, the dot product can be expressed as \n",
    "A @ x\n"
   ]
  },
  {
   "cell_type": "markdown",
   "metadata": {},
   "source": [
    "### Prepare some data\n",
    "\n",
    "Numpy has a buildin function to generate arrays of data for computations.\n",
    "Check the following\n",
    "\n",
    "* np.linspace(0, 2, 100)\n",
    "* np.logspace(0, 2, 100)\n",
    "* np.arrange(0, 2, 100)\n"
   ]
  }
 ],
 "metadata": {
  "kernelspec": {
   "display_name": "Python 3.8.5 64-bit ('lectures-env')",
   "language": "python",
   "name": "python38564bitlecturesenvb0545fc44d3c4304943e069658462f94"
  },
  "language_info": {
   "codemirror_mode": {
    "name": "ipython",
    "version": 3
   },
   "file_extension": ".py",
   "mimetype": "text/x-python",
   "name": "python",
   "nbconvert_exporter": "python",
   "pygments_lexer": "ipython3",
   "version": "3.8.5-final"
  }
 },
 "nbformat": 4,
 "nbformat_minor": 4
}