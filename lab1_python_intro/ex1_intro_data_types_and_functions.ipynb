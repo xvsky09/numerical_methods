{
 "cells": [
  {
   "cell_type": "markdown",
   "metadata": {},
   "source": [
    "# About python (briefly)\n",
    "\n",
    "Python language is:\n",
    "\n",
    "* dynamically typed - the type of the variable (int, float, etc) can be changed during runtime of the program\n",
    "* interpreded - instead of being compiled it is read 'on the fly'"
   ]
  },
  {
   "cell_type": "code",
   "execution_count": 2,
   "metadata": {},
   "outputs": [
    {
     "data": {
      "text/plain": [
       "'blah, blah'"
      ]
     },
     "execution_count": 2,
     "metadata": {},
     "output_type": "execute_result"
    }
   ],
   "source": [
    "a = 10  # an integer\n",
    "a = 10. # float\n",
    "a = \"blah, blah\"  # string\n",
    "a"
   ]
  },
  {
   "cell_type": "markdown",
   "metadata": {},
   "source": [
    "In general, Python code can be written and execute in two ways:\n",
    "\n",
    "* interacively\n",
    "\n",
    "* as a batch script\n",
    "\n",
    "To enable the python's console it is enought to type `python` in the shell\n"
   ]
  },
  {
   "cell_type": "markdown",
   "metadata": {},
   "source": [
    "Now, let us show some examples:\n",
    "\n",
    "* write a function\n",
    "* write a function with default arguments\n",
    "* write a function which return two variables\n",
    "* use the `print(f\"the value of x is {x:.2f\")` to display some data...\n"
   ]
  },
  {
   "cell_type": "markdown",
   "metadata": {},
   "source": [
    "## Commonly used types\n",
    "\n",
    "### list\n",
    "\n",
    "A list can initialized using braces `[]` or `list()` keyword.\n",
    "There are some default methods belonging to the `list` class, for example \n",
    "\n",
    "* `.append()`\n",
    "* `.insert(index, element)`\n",
    "* `.sort()`\n",
    "* `.reverse()`\n",
    "* `.remove(element)` \n",
    "* `.index(element)` - return index of the element\n",
    "\n",
    "Operators like `+=` allow to add additional elements to the list.\n"
   ]
  },
  {
   "cell_type": "code",
   "execution_count": 23,
   "metadata": {},
   "outputs": [
    {
     "output_type": "stream",
     "name": "stdout",
     "text": [
      "Bob is present\nchecking students: John are you there?\nchecking students: Bob are you there?\nchecking students: Alice are you there?\n"
     ]
    }
   ],
   "source": [
    "students = ['John', 'Bob', 'Alice']\n",
    "\n",
    "if 'Bob' in students:\n",
    "    print(\"Bob is present\")\n",
    "\n",
    "for s in students:\n",
    "    print(f\"checking students: {s} are you there?\")"
   ]
  },
  {
   "cell_type": "markdown",
   "metadata": {},
   "source": [
    "**Exercise:**\n",
    "Write a list from 1 to 5. Calculate its sum using for loop."
   ]
  },
  {
   "cell_type": "code",
   "execution_count": 5,
   "metadata": {},
   "outputs": [
    {
     "output_type": "stream",
     "name": "stdout",
     "text": [
      "Apple has Red color\nBanana has Yellow color\nOrange has Orange color\n"
     ]
    }
   ],
   "source": [
    "fruits = ['Apple', 'Banana', 'Orange']\n",
    "colors = ['Red', 'Yellow', 'Orange']\n",
    "\n",
    "for f, c in zip(fruits, colors):\n",
    "    print(f'{f} has {c} color')"
   ]
  },
  {
   "cell_type": "markdown",
   "metadata": {},
   "source": [
    "The list can be sliced using `my_list[start:end]`.\n",
    "The last element from the list can be accessed as `my_list[-1]`.\n",
    "Each n-th element can be extracted using `my_list[::n]`.\n",
    "\n",
    "The list can be initialized using \n",
    "```\n",
    "my_list = list()\n",
    "for i in range(10):\n",
    "    my_list.append(i**2)\n",
    "    \n",
    "# which is equivalent to\n",
    "my_list = [ i*i for i in range(10)]\n",
    "```\n",
    "\n",
    "**Exercise:**\n",
    "\n",
    "Generete a list from `3` to `20`. \n",
    "\n",
    "* Calculate the sum of each third element\n",
    "* Calculate the sum of even elements"
   ]
  },
  {
   "cell_type": "markdown",
   "metadata": {},
   "source": [
    "### Tuple\n",
    "\n",
    "Tuple is similar to list, but inmutable.\n",
    "\n",
    "\n"
   ]
  },
  {
   "cell_type": "code",
   "execution_count": 27,
   "metadata": {},
   "outputs": [
    {
     "output_type": "error",
     "ename": "TypeError",
     "evalue": "'tuple' object does not support item assignment",
     "traceback": [
      "\u001b[0;31m---------------------------------------------------------------------------\u001b[0m",
      "\u001b[0;31mTypeError\u001b[0m                                 Traceback (most recent call last)",
      "\u001b[0;32m<ipython-input-27-33432c4e925a>\u001b[0m in \u001b[0;36m<module>\u001b[0;34m\u001b[0m\n\u001b[1;32m      1\u001b[0m \u001b[0mmy_set\u001b[0m \u001b[0;34m=\u001b[0m \u001b[0;34m(\u001b[0m\u001b[0;36m3\u001b[0m\u001b[0;34m,\u001b[0m\u001b[0;36m5\u001b[0m\u001b[0;34m)\u001b[0m\u001b[0;34m\u001b[0m\u001b[0;34m\u001b[0m\u001b[0m\n\u001b[0;32m----> 2\u001b[0;31m \u001b[0mmy_set\u001b[0m\u001b[0;34m[\u001b[0m\u001b[0;36m1\u001b[0m\u001b[0;34m]\u001b[0m \u001b[0;34m=\u001b[0m \u001b[0;36m6\u001b[0m\u001b[0;34m\u001b[0m\u001b[0;34m\u001b[0m\u001b[0m\n\u001b[0m",
      "\u001b[0;31mTypeError\u001b[0m: 'tuple' object does not support item assignment"
     ]
    }
   ],
   "source": [
    "my_set = (3,5)\n",
    "# my_set[1] = 6  # TypeError: 'tuple' object does not support item assignment"
   ]
  },
  {
   "cell_type": "markdown",
   "metadata": {},
   "source": [
    "## Conditional expressions\n",
    "\n",
    "As usual `if, elif, else` are used.\n",
    "Interesingly, the is no `switch` statement in python.\n",
    "Programmers are encouraged to use the `dictionary` (a.k.a `map`) class."
   ]
  },
  {
   "cell_type": "code",
   "execution_count": 7,
   "metadata": {},
   "outputs": [
    {
     "data": {
      "text/plain": [
       "604456357"
      ]
     },
     "execution_count": 7,
     "metadata": {},
     "output_type": "execute_result"
    }
   ],
   "source": [
    "my_phone_book = {\"John\": 606123456,\n",
    "                 \"Alice\": 604456357}\n",
    "\n",
    "my_phone_book[\"Alice\"]"
   ]
  },
  {
   "cell_type": "code",
   "execution_count": 11,
   "metadata": {},
   "outputs": [
    {
     "name": "stdout",
     "output_type": "stream",
     "text": [
      "first Number        42\n",
      "second Number       50\n",
      "first Number again  42\n"
     ]
    }
   ],
   "source": [
    "import random\n",
    "random.seed(30)\n",
    "print(\"first Number       \", random.randint(25,50))\n",
    "print(\"second Number      \", random.randint(25,50))\n",
    "random.seed(30)\n",
    "print(\"first Number again \", random.randint(25,50))"
   ]
  },
  {
   "cell_type": "code",
   "execution_count": null,
   "metadata": {},
   "outputs": [],
   "source": []
  },
  {
   "cell_type": "markdown",
   "metadata": {},
   "source": [
    "## Lambda (anonymous) functions"
   ]
  },
  {
   "cell_type": "code",
   "execution_count": 24,
   "metadata": {},
   "outputs": [
    {
     "output_type": "stream",
     "name": "stdout",
     "text": [
      "15\n<function <lambda> at 0x7fcdbc2c2310> 2\n"
     ]
    }
   ],
   "source": [
    "x = lambda a : a + 10\n",
    "print(x(5))\n",
    "\n"
   ]
  },
  {
   "source": [
    "## Generators"
   ],
   "cell_type": "markdown",
   "metadata": {}
  },
  {
   "cell_type": "code",
   "execution_count": 19,
   "metadata": {},
   "outputs": [
    {
     "output_type": "stream",
     "name": "stdout",
     "text": [
      "0\n1\n4\n9\n16\n25\n36\n49\n64\n81\ntry once again...\n"
     ]
    }
   ],
   "source": [
    "def powers_of_two_generator():\n",
    "    for i in range(10):\n",
    "        yield i **2\n",
    "\n",
    "my_generator = powers_of_two_generator()\n",
    "\n",
    "for x in my_generator:\n",
    "    print(x)\n",
    "\n",
    "print(\"try once again...\")\n",
    "# my_generator = powers_of_two_generator()\n",
    "for x in my_generator:\n",
    "    print(x)\n"
   ]
  },
  {
   "cell_type": "markdown",
   "metadata": {},
   "source": [
    "## Function Handle\n",
    "\n",
    "Write a function `add(x,y)` and `multiply(x,y)`.\n",
    "Then execute the following code:\n",
    "\n",
    "```\n",
    "my_fun = add\n",
    "my_fun(3,4)\n",
    "\n",
    "my_fun = multiply\n",
    "my_fun(3,4)\n",
    "```\n",
    "\n"
   ]
  },
  {
   "cell_type": "markdown",
   "metadata": {},
   "source": [
    "### Exercice:\n",
    "\n",
    "For i from 1 to 100:\n",
    "\n",
    "* if i is divisible by `3` and `5` print `35`\n",
    "* if i is divisible by `3` print `3`\n",
    "* if i is divisible by `5` print `5`\n",
    "* for the rest, print i.\n"
   ]
  }
 ],
 "metadata": {
  "kernelspec": {
   "display_name": "Python 3.8.5 64-bit ('lectures-env')",
   "language": "python",
   "name": "python38564bitlecturesenvb0545fc44d3c4304943e069658462f94"
  },
  "language_info": {
   "codemirror_mode": {
    "name": "ipython",
    "version": 3
   },
   "file_extension": ".py",
   "mimetype": "text/x-python",
   "name": "python",
   "nbconvert_exporter": "python",
   "pygments_lexer": "ipython3",
   "version": "3.8.5-final"
  }
 },
 "nbformat": 4,
 "nbformat_minor": 4
}