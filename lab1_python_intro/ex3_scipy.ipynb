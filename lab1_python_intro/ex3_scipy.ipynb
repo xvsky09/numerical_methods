{
 "cells": [
  {
   "cell_type": "markdown",
   "metadata": {},
   "source": [
    "# Scipy\n",
    "\n",
    "\n",
    "```\n",
    "scipy.optimize.fsolve(\n",
    "func, x0, args=(), fprime=None, \n",
    "full_output=0, col_deriv=0, xtol=1.49012e-08, maxfev=0, band=None, epsfcn=None, factor=100, diag=None)\n",
    "```"
   ]
  },
  {
   "cell_type": "markdown",
   "metadata": {},
   "source": [
    "\n",
    "Example: Solve the following system: `y - x^2 = 7 - 5x` and `4y - 8x = -21`"
   ]
  },
  {
   "cell_type": "code",
   "execution_count": 1,
   "metadata": {},
   "outputs": [
    {
     "name": "stdout",
     "output_type": "stream",
     "text": [
      "(0.0, 0.0)\n",
      "3.500000041418183\n",
      "1.7500000828363667\n"
     ]
    }
   ],
   "source": [
    "from scipy.optimize import fsolve\n",
    "\n",
    "def equations(p):\n",
    "    x, y = p\n",
    "    return (y - x**2 -7 + 5*x, 4*y - 8*x + 21)\n",
    "\n",
    "x, y =  fsolve(equations, (5, 5))\n",
    "print(equations((x, y)))\n",
    "print(x)\n",
    "print(y)"
   ]
  },
  {
   "cell_type": "code",
   "execution_count": 2,
   "metadata": {},
   "outputs": [
    {
     "data": {
      "text/plain": [
       "array([3.])"
      ]
     },
     "execution_count": 2,
     "metadata": {},
     "output_type": "execute_result"
    }
   ],
   "source": [
    "fsolve(lambda x: x*x - 9, 1)"
   ]
  },
  {
   "cell_type": "code",
   "execution_count": 4,
   "metadata": {},
   "outputs": [
    {
     "name": "stdout",
     "output_type": "stream",
     "text": [
      "y = 9.0 \t error: 9.992007221626409e-14\n"
     ]
    }
   ],
   "source": [
    "from scipy.integrate import quad\n",
    "y, err = quad(lambda x: 2*x, 0., 3.)  \n",
    "print(f\"y = {y} \\t error: {err}\")"
   ]
  }
 ],
 "metadata": {
  "kernelspec": {
   "display_name": "Python 3.8.5 64-bit ('lectures-env')",
   "language": "python",
   "name": "python38564bitlecturesenvb0545fc44d3c4304943e069658462f94"
  },
  "language_info": {
   "codemirror_mode": {
    "name": "ipython",
    "version": 3
   },
   "file_extension": ".py",
   "mimetype": "text/x-python",
   "name": "python",
   "nbconvert_exporter": "python",
   "pygments_lexer": "ipython3",
   "version": "3.8.5"
  }
 },
 "nbformat": 4,
 "nbformat_minor": 4
}
